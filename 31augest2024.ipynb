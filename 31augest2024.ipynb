{
  "nbformat": 4,
  "nbformat_minor": 0,
  "metadata": {
    "colab": {
      "provenance": []
    },
    "kernelspec": {
      "name": "python3",
      "display_name": "Python 3"
    },
    "language_info": {
      "name": "python"
    }
  },
  "cells": [
    {
      "cell_type": "code",
      "execution_count": 1,
      "metadata": {
        "colab": {
          "base_uri": "https://localhost:8080/"
        },
        "id": "0o70aUpUkTeU",
        "outputId": "44ac60d1-cc0c-4406-95a1-bf88410d7bd2"
      },
      "outputs": [
        {
          "output_type": "execute_result",
          "data": {
            "text/plain": [
              "3"
            ]
          },
          "metadata": {},
          "execution_count": 1
        }
      ],
      "source": [
        "#exerise function\n",
        "abs(-3)"
      ]
    },
    {
      "cell_type": "code",
      "source": [
        "min(1,24,4,3,0.3,2)\n",
        "#using min function"
      ],
      "metadata": {
        "colab": {
          "base_uri": "https://localhost:8080/"
        },
        "id": "qI4UjRH_lc0T",
        "outputId": "2ed0248c-921e-4c34-cb6a-5b50fbfefde4"
      },
      "execution_count": 3,
      "outputs": [
        {
          "output_type": "execute_result",
          "data": {
            "text/plain": [
              "0.3"
            ]
          },
          "metadata": {},
          "execution_count": 3
        }
      ]
    },
    {
      "cell_type": "code",
      "source": [
        "max(4,52,66,52,66,454,65,)\n",
        "#using max functiom"
      ],
      "metadata": {
        "colab": {
          "base_uri": "https://localhost:8080/"
        },
        "id": "W0zu3Sjhlux0",
        "outputId": "8f52ab94-c6a0-481c-a5e6-b793a6c88039"
      },
      "execution_count": 4,
      "outputs": [
        {
          "output_type": "execute_result",
          "data": {
            "text/plain": [
              "454"
            ]
          },
          "metadata": {},
          "execution_count": 4
        }
      ]
    },
    {
      "cell_type": "code",
      "source": [
        "#using power pow , divmode divmod , and leanght asa len using function\n",
        "pow(12,2)\n",
        "\n"
      ],
      "metadata": {
        "colab": {
          "base_uri": "https://localhost:8080/"
        },
        "id": "wGnjQLral3U1",
        "outputId": "9ca537ff-dec3-4f08-b23d-64b390c7171a"
      },
      "execution_count": 10,
      "outputs": [
        {
          "output_type": "execute_result",
          "data": {
            "text/plain": [
              "144"
            ]
          },
          "metadata": {},
          "execution_count": 10
        }
      ]
    },
    {
      "cell_type": "code",
      "source": [
        "divmod(12,2)\n"
      ],
      "metadata": {
        "colab": {
          "base_uri": "https://localhost:8080/"
        },
        "id": "s65Xr2WUmQDo",
        "outputId": "1cae8add-3dca-4ccc-cbc5-d7777ec22c3f"
      },
      "execution_count": 11,
      "outputs": [
        {
          "output_type": "execute_result",
          "data": {
            "text/plain": [
              "(6, 0)"
            ]
          },
          "metadata": {},
          "execution_count": 11
        }
      ]
    },
    {
      "cell_type": "code",
      "source": [
        "len(\"hello world\")"
      ],
      "metadata": {
        "colab": {
          "base_uri": "https://localhost:8080/"
        },
        "id": "f6bGanPGmnah",
        "outputId": "ed699cc0-c191-4030-aca6-4831757bb2d7"
      },
      "execution_count": 12,
      "outputs": [
        {
          "output_type": "execute_result",
          "data": {
            "text/plain": [
              "11"
            ]
          },
          "metadata": {},
          "execution_count": 12
        }
      ]
    },
    {
      "cell_type": "code",
      "source": [
        "#programs using math function\n",
        "import math\n",
        "print(math.ceil(5.4))"
      ],
      "metadata": {
        "colab": {
          "base_uri": "https://localhost:8080/"
        },
        "id": "QupcNcbRmpvx",
        "outputId": "9d1a70e4-4670-47da-b5c2-a81b0adc2232"
      },
      "execution_count": 13,
      "outputs": [
        {
          "output_type": "stream",
          "name": "stdout",
          "text": [
            "6\n"
          ]
        }
      ]
    },
    {
      "cell_type": "code",
      "source": [
        "import math\n",
        "print(math.cos(1))\n",
        "print(math.pi)\n",
        "print(math.factorial(6))"
      ],
      "metadata": {
        "colab": {
          "base_uri": "https://localhost:8080/"
        },
        "id": "xZ4kPQ2gm86X",
        "outputId": "b15fba41-fa6d-43f5-b415-7d131627bb96"
      },
      "execution_count": 16,
      "outputs": [
        {
          "output_type": "stream",
          "name": "stdout",
          "text": [
            "0.5403023058681398\n",
            "3.141592653589793\n",
            "720\n"
          ]
        }
      ]
    },
    {
      "cell_type": "code",
      "source": [
        "#exercise on list\n",
        "num = [17,24,33,41]\n",
        "print(num[0]+num[1]+num[2]+num[3])\n",
        "print(max(num))\n",
        "print(min(num))\n"
      ],
      "metadata": {
        "colab": {
          "base_uri": "https://localhost:8080/"
        },
        "id": "dXtJHp9Inp26",
        "outputId": "2092d75b-8492-4d91-c99f-2cc5690e4a83"
      },
      "execution_count": 19,
      "outputs": [
        {
          "output_type": "stream",
          "name": "stdout",
          "text": [
            "115\n",
            "41\n",
            "17\n"
          ]
        }
      ]
    },
    {
      "cell_type": "code",
      "source": [
        "#using list function\n",
        "quote=\"Wlc to presidency university\"\n",
        "string=list(quote)\n",
        "print(string)"
      ],
      "metadata": {
        "colab": {
          "base_uri": "https://localhost:8080/"
        },
        "id": "pspNk0VMoWqi",
        "outputId": "09462a2b-cd2a-4145-9d8a-19935f057612"
      },
      "execution_count": 21,
      "outputs": [
        {
          "output_type": "stream",
          "name": "stdout",
          "text": [
            "['W', 'l', 'c', ' ', 't', 'o', ' ', 'p', 'r', 'e', 's', 'i', 'd', 'e', 'n', 'c', 'y', ' ', 'u', 'n', 'i', 'v', 'e', 'r', 's', 'i', 't', 'y']\n"
          ]
        }
      ]
    },
    {
      "cell_type": "code",
      "source": [
        "#slic and index\n",
        "super=[\"metro\",\"bike\",\"car\",\"truck\"]\n",
        "print(super[0])\n",
        "print(super[1])\n",
        "print(super[2])\n",
        "print(super[3])"
      ],
      "metadata": {
        "colab": {
          "base_uri": "https://localhost:8080/"
        },
        "id": "KYDrxHfOow_A",
        "outputId": "ff063ece-f584-493b-f673-10cfc9c8bf92"
      },
      "execution_count": 22,
      "outputs": [
        {
          "output_type": "stream",
          "name": "stdout",
          "text": [
            "metro\n",
            "bike\n",
            "car\n",
            "truck\n"
          ]
        }
      ]
    },
    {
      "cell_type": "code",
      "source": [
        "#using function and list\n",
        "lakes=[\"hesarghatta\",\"heaven\",\"Lemon\",\"systummm\"]\n",
        "len(lakes)\n"
      ],
      "metadata": {
        "colab": {
          "base_uri": "https://localhost:8080/"
        },
        "id": "p61Xkf7VpODH",
        "outputId": "2a9d46e7-369c-415a-c315-3b3e97f92700"
      },
      "execution_count": 25,
      "outputs": [
        {
          "output_type": "execute_result",
          "data": {
            "text/plain": [
              "4"
            ]
          },
          "metadata": {},
          "execution_count": 25
        }
      ]
    },
    {
      "cell_type": "code",
      "source": [
        "num=[12,23,434,56]\n",
        "sum(num)"
      ],
      "metadata": {
        "colab": {
          "base_uri": "https://localhost:8080/"
        },
        "id": "UfCJAYS3p5mo",
        "outputId": "03bb294c-9c86-48fa-db85-6a5aa580e4b5"
      },
      "execution_count": 26,
      "outputs": [
        {
          "output_type": "execute_result",
          "data": {
            "text/plain": [
              "525"
            ]
          },
          "metadata": {},
          "execution_count": 26
        }
      ]
    },
    {
      "cell_type": "code",
      "source": [
        "city=[\"delhi\",\"banglore\",\"rajisthan\",\"kerala\",\"UttarPraadesh\"]\n",
        "city.count(\"banglore\")\n",
        "\n"
      ],
      "metadata": {
        "colab": {
          "base_uri": "https://localhost:8080/"
        },
        "id": "bAnX6S4Tp7xo",
        "outputId": "52a3c451-b654-4113-acd0-18fa13985542"
      },
      "execution_count": 36,
      "outputs": [
        {
          "output_type": "execute_result",
          "data": {
            "text/plain": [
              "1"
            ]
          },
          "metadata": {},
          "execution_count": 36
        }
      ]
    },
    {
      "cell_type": "code",
      "source": [
        "city.index(\"delhi\")"
      ],
      "metadata": {
        "colab": {
          "base_uri": "https://localhost:8080/"
        },
        "id": "yG6Wk1JUrNs6",
        "outputId": "642bef27-9d86-417a-c407-6f13e0c309c4"
      },
      "execution_count": 31,
      "outputs": [
        {
          "output_type": "execute_result",
          "data": {
            "text/plain": [
              "0"
            ]
          },
          "metadata": {},
          "execution_count": 31
        }
      ]
    },
    {
      "cell_type": "code",
      "source": [
        "city.reverse()\n",
        "print(city)"
      ],
      "metadata": {
        "colab": {
          "base_uri": "https://localhost:8080/"
        },
        "id": "8l6UkcKirmLJ",
        "outputId": "6e4ea566-7b6f-4052-8e47-60408fb2a6e0"
      },
      "execution_count": 33,
      "outputs": [
        {
          "output_type": "stream",
          "name": "stdout",
          "text": [
            "['delhi', 'banglore', 'rajisthan', 'kerala', 'UttarPreadesh']\n"
          ]
        }
      ]
    },
    {
      "cell_type": "code",
      "source": [
        "city.pop()"
      ],
      "metadata": {
        "colab": {
          "base_uri": "https://localhost:8080/",
          "height": 35
        },
        "id": "UEeCS0Jksmqe",
        "outputId": "f62a45fe-11d3-4c93-ebd4-fa2ad6d908de"
      },
      "execution_count": 37,
      "outputs": [
        {
          "output_type": "execute_result",
          "data": {
            "text/plain": [
              "'UttarPraadesh'"
            ],
            "application/vnd.google.colaboratory.intrinsic+json": {
              "type": "string"
            }
          },
          "metadata": {},
          "execution_count": 37
        }
      ]
    },
    {
      "cell_type": "code",
      "source": [
        " list_items = input(\"Enter list items separated by a space \").split()\n",
        " print(f\"List items are {list_items}\")\n",
        " items_of_list = []\n",
        " total_items = int(input(\"Enter the number of items \"))\n",
        " for i in range(total_items):\n",
        "  item = input(\"Enter list item: \")\n",
        "  items_of_list.append(item)\n",
        "print(f\"List items are {items_of_list}\")"
      ],
      "metadata": {
        "colab": {
          "base_uri": "https://localhost:8080/"
        },
        "id": "1W_urwTNtdbY",
        "outputId": "20c1e7fa-25d2-4450-a7ec-c48cd462b1a4"
      },
      "execution_count": 40,
      "outputs": [
        {
          "output_type": "stream",
          "name": "stdout",
          "text": [
            "Enter list items separated by a space akash lemon ranjeet emiway\n",
            "List items are ['akash', 'lemon', 'ranjeet', 'emiway']\n",
            "Enter the number of items 2\n",
            "Enter list item: akash\n",
            "Enter list item: lemon\n",
            "List items are ['akash', 'lemon']\n"
          ]
        }
      ]
    },
    {
      "cell_type": "code",
      "source": [
        "silicon_valley = [\"google\", \"amd\", \"yahoo\", \"cisco\", \"oracle\"]\n",
        "for index_value in range(len(silicon_valley)):\n",
        "  print(f\"The index value of '{silicon_valley[index_value]}' is {index_value}\")"
      ],
      "metadata": {
        "colab": {
          "base_uri": "https://localhost:8080/"
        },
        "id": "c-nH1ud3u-0H",
        "outputId": "f8410d05-5ce8-4721-8ed2-d30635571752"
      },
      "execution_count": 41,
      "outputs": [
        {
          "output_type": "stream",
          "name": "stdout",
          "text": [
            "The index value of 'google' is 0\n",
            "The index value of 'amd' is 1\n",
            "The index value of 'yahoo' is 2\n",
            "The index value of 'cisco' is 3\n",
            "The index value of 'oracle' is 4\n"
          ]
        }
      ]
    },
    {
      "cell_type": "code",
      "source": [
        "#program about dictnary\n",
        "dic={\"Laptop\",\"Mobile\",21,23}\n",
        "print(dic)\n"
      ],
      "metadata": {
        "colab": {
          "base_uri": "https://localhost:8080/"
        },
        "id": "p4j7KnbCvMhU",
        "outputId": "f688a536-c830-4048-910b-6bc1c25ddead"
      },
      "execution_count": 42,
      "outputs": [
        {
          "output_type": "stream",
          "name": "stdout",
          "text": [
            "{'Laptop', 21, 'Mobile', 23}\n"
          ]
        }
      ]
    },
    {
      "cell_type": "code",
      "source": [
        " pizza={\"pepperoni\":3, \"calzone\":5, \"margherita\":4}\n",
        " fav_pizza = {\"margherita\":4, \"pepperoni\":3, \"calzone\":5}\n",
        " pizza == fav_pizza"
      ],
      "metadata": {
        "colab": {
          "base_uri": "https://localhost:8080/"
        },
        "id": "wmcpGPyYwsTg",
        "outputId": "e069fe6c-da0c-4d8a-b59b-2ea393d5a6f6"
      },
      "execution_count": 43,
      "outputs": [
        {
          "output_type": "execute_result",
          "data": {
            "text/plain": [
              "True"
            ]
          },
          "metadata": {},
          "execution_count": 43
        }
      ]
    },
    {
      "cell_type": "code",
      "source": [
        "president={\"washington\":101,\"jefferson\":102,\"lincoln\":103}\n",
        "president[\"washington\"]\n"
      ],
      "metadata": {
        "colab": {
          "base_uri": "https://localhost:8080/"
        },
        "id": "38C__iz2xtBQ",
        "outputId": "4df42fd7-5eb7-4459-9ba4-d31d71a66634"
      },
      "execution_count": 48,
      "outputs": [
        {
          "output_type": "execute_result",
          "data": {
            "text/plain": [
              "101"
            ]
          },
          "metadata": {},
          "execution_count": 48
        }
      ]
    },
    {
      "cell_type": "code",
      "source": [
        "lenq  = len(president)\n",
        "print(lenq)\n"
      ],
      "metadata": {
        "colab": {
          "base_uri": "https://localhost:8080/"
        },
        "id": "rNUir3G9xxYw",
        "outputId": "9ca66ffc-f801-4b7a-bb7e-615d163c4b87"
      },
      "execution_count": 47,
      "outputs": [
        {
          "output_type": "stream",
          "name": "stdout",
          "text": [
            "3\n"
          ]
        }
      ]
    },
    {
      "cell_type": "code",
      "source": [
        "sorted(president)\n"
      ],
      "metadata": {
        "colab": {
          "base_uri": "https://localhost:8080/"
        },
        "id": "E5Dg9coyyjDv",
        "outputId": "b8f1d362-17fd-4ae9-9121-3426a0743aa8"
      },
      "execution_count": 50,
      "outputs": [
        {
          "output_type": "execute_result",
          "data": {
            "text/plain": [
              "['jefferson', 'lincoln', 'washington']"
            ]
          },
          "metadata": {},
          "execution_count": 50
        }
      ]
    },
    {
      "cell_type": "code",
      "source": [
        "sorted(president,reverse=True)"
      ],
      "metadata": {
        "colab": {
          "base_uri": "https://localhost:8080/"
        },
        "id": "-T4rmZd_y95G",
        "outputId": "6a9a020b-34ca-471d-992e-af7b7c5c2d49"
      },
      "execution_count": 51,
      "outputs": [
        {
          "output_type": "execute_result",
          "data": {
            "text/plain": [
              "['washington', 'lincoln', 'jefferson']"
            ]
          },
          "metadata": {},
          "execution_count": 51
        }
      ]
    },
    {
      "cell_type": "code",
      "source": [
        "sorted(president.values())"
      ],
      "metadata": {
        "colab": {
          "base_uri": "https://localhost:8080/"
        },
        "id": "fbIou0whzDP2",
        "outputId": "850009c5-d870-491a-d3cf-42764ca10c41"
      },
      "execution_count": 52,
      "outputs": [
        {
          "output_type": "execute_result",
          "data": {
            "text/plain": [
              "[101, 102, 103]"
            ]
          },
          "metadata": {},
          "execution_count": 52
        }
      ]
    },
    {
      "cell_type": "code",
      "source": [
        "sorted  = sorted(president.values())\n",
        "print(sorted)"
      ],
      "metadata": {
        "colab": {
          "base_uri": "https://localhost:8080/"
        },
        "id": "AIxP5z2BzKq2",
        "outputId": "7c2b111d-5921-4c21-c327-cb7b14209ee4"
      },
      "execution_count": 53,
      "outputs": [
        {
          "output_type": "stream",
          "name": "stdout",
          "text": [
            "[101, 102, 103]\n"
          ]
        }
      ]
    },
    {
      "cell_type": "code",
      "source": [
        "sorted(president.items())"
      ],
      "metadata": {
        "colab": {
          "base_uri": "https://localhost:8080/",
          "height": 141
        },
        "id": "4ek_FennzPz-",
        "outputId": "65700e66-b6b3-4868-a4a1-75698251bfa3"
      },
      "execution_count": 55,
      "outputs": [
        {
          "output_type": "error",
          "ename": "TypeError",
          "evalue": "'list' object is not callable",
          "traceback": [
            "\u001b[0;31m---------------------------------------------------------------------------\u001b[0m",
            "\u001b[0;31mTypeError\u001b[0m                                 Traceback (most recent call last)",
            "\u001b[0;32m<ipython-input-55-921e53bd38ca>\u001b[0m in \u001b[0;36m<cell line: 1>\u001b[0;34m()\u001b[0m\n\u001b[0;32m----> 1\u001b[0;31m \u001b[0msorted\u001b[0m\u001b[0;34m(\u001b[0m\u001b[0mpresident\u001b[0m\u001b[0;34m.\u001b[0m\u001b[0mitems\u001b[0m\u001b[0;34m(\u001b[0m\u001b[0;34m)\u001b[0m\u001b[0;34m)\u001b[0m\u001b[0;34m\u001b[0m\u001b[0;34m\u001b[0m\u001b[0m\n\u001b[0m",
            "\u001b[0;31mTypeError\u001b[0m: 'list' object is not callable"
          ]
        }
      ]
    },
    {
      "cell_type": "code",
      "source": [
        "#tuples and sets\n",
        "#tuple\n",
        "internet=(\"cern\",\"tinmbernerslee\",\"google\",\"yahoo\")\n",
        "internet\n"
      ],
      "metadata": {
        "colab": {
          "base_uri": "https://localhost:8080/"
        },
        "id": "nXL9L7Z1zq1N",
        "outputId": "0b755589-cdf5-48f7-fef0-514ce20d5fc6"
      },
      "execution_count": 57,
      "outputs": [
        {
          "output_type": "execute_result",
          "data": {
            "text/plain": [
              "('cern', 'tinmbernerslee', 'google', 'yahoo')"
            ]
          },
          "metadata": {},
          "execution_count": 57
        }
      ]
    },
    {
      "cell_type": "code",
      "source": [
        "type(internet)"
      ],
      "metadata": {
        "colab": {
          "base_uri": "https://localhost:8080/"
        },
        "id": "OeB0f50D0WLw",
        "outputId": "8330ce6d-cf02-420b-99a1-5d077460a960"
      },
      "execution_count": 58,
      "outputs": [
        {
          "output_type": "execute_result",
          "data": {
            "text/plain": [
              "tuple"
            ]
          },
          "metadata": {},
          "execution_count": 58
        }
      ]
    },
    {
      "cell_type": "code",
      "source": [
        "holy_places = (\"jerusalem\", \"kashivishwanath\", \"harmandirsahib\", \"bethlehem\", \"mahabodhi\")\n",
        "holy_places[0]"
      ],
      "metadata": {
        "colab": {
          "base_uri": "https://localhost:8080/",
          "height": 35
        },
        "id": "mzaxQBix0fC9",
        "outputId": "f88f180b-6fba-4a07-b6c7-2bc7a84953f9"
      },
      "execution_count": 61,
      "outputs": [
        {
          "output_type": "execute_result",
          "data": {
            "text/plain": [
              "'jerusalem'"
            ],
            "application/vnd.google.colaboratory.intrinsic+json": {
              "type": "string"
            }
          },
          "metadata": {},
          "execution_count": 61
        }
      ]
    },
    {
      "cell_type": "code",
      "source": [
        " basket = {'apple', 'orange', 'apple', 'pear', 'orange', 'banana'}\n",
        "print(basket)"
      ],
      "metadata": {
        "colab": {
          "base_uri": "https://localhost:8080/"
        },
        "id": "ZUmgc5Ge81KF",
        "outputId": "fccab38f-7934-46c1-f956-1d1baf230309"
      },
      "execution_count": 62,
      "outputs": [
        {
          "output_type": "stream",
          "name": "stdout",
          "text": [
            "{'pear', 'orange', 'apple', 'banana'}\n"
          ]
        }
      ]
    },
    {
      "cell_type": "code",
      "source": [
        "#control statment\n"
      ],
      "metadata": {
        "id": "0mBCSA9183jU"
      },
      "execution_count": null,
      "outputs": []
    }
  ]
}