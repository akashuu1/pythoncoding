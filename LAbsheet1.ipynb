{
  "nbformat": 4,
  "nbformat_minor": 0,
  "metadata": {
    "colab": {
      "provenance": []
    },
    "kernelspec": {
      "name": "python3",
      "display_name": "Python 3"
    },
    "language_info": {
      "name": "python"
    }
  },
  "cells": [
    {
      "cell_type": "code",
      "execution_count": 2,
      "metadata": {
        "colab": {
          "base_uri": "https://localhost:8080/"
        },
        "id": "fX0lt_6THipY",
        "outputId": "83d5ea28-b6e6-4bf9-a9e4-9e36b0454588"
      },
      "outputs": [
        {
          "output_type": "stream",
          "name": "stdout",
          "text": [
            "['False', 'None', 'True', 'and', 'as', 'assert', 'async', 'await', 'break', 'class', 'continue', 'def', 'del', 'elif', 'else', 'except', 'finally', 'for', 'from', 'global', 'if', 'import', 'in', 'is', 'lambda', 'nonlocal', 'not', 'or', 'pass', 'raise', 'return', 'try', 'while', 'with', 'yield']\n",
            "35\n"
          ]
        }
      ],
      "source": [
        "#python keywords\n",
        "#code to print alll the keywords present in py\n",
        "import keyword\n",
        "print(keyword.kwlist)\n",
        "a=len(keyword.kwlist)\n",
        "print(a)\n"
      ]
    },
    {
      "cell_type": "code",
      "source": [
        "#single line comment line\n",
        "print(\"hello my buddies\")"
      ],
      "metadata": {
        "colab": {
          "base_uri": "https://localhost:8080/"
        },
        "id": "9AoOGXQ3Ii40",
        "outputId": "c2fe2007-f790-460a-a1c7-7e38a07a9e22"
      },
      "execution_count": 4,
      "outputs": [
        {
          "output_type": "stream",
          "name": "stdout",
          "text": [
            "hello my buddies\n"
          ]
        }
      ]
    },
    {
      "cell_type": "code",
      "source": [
        "#multi line comment\n",
        "\"\"\"hello my buddies\"\"\"\n",
        "print(\"hello my buddies\")\n"
      ],
      "metadata": {
        "colab": {
          "base_uri": "https://localhost:8080/"
        },
        "id": "mdboceOXI27s",
        "outputId": "00e93ff5-5a47-4550-9b7e-13fa2aa89584"
      },
      "execution_count": 6,
      "outputs": [
        {
          "output_type": "stream",
          "name": "stdout",
          "text": [
            "hello my buddies\n"
          ]
        }
      ]
    },
    {
      "cell_type": "code",
      "source": [
        "#Example1\n",
        "#3 variable created and stored in value\n",
        "a=10\n",
        "b=20\n",
        "c=a+b\n",
        "print(c)\n",
        "\n",
        "#example 3 on strings\n",
        "x=\"hello\"\n"
      ],
      "metadata": {
        "colab": {
          "base_uri": "https://localhost:8080/"
        },
        "id": "No2hfHhJI-qM",
        "outputId": "eabc9ee0-982a-4736-d7db-3e364963ccd8"
      },
      "execution_count": 8,
      "outputs": [
        {
          "output_type": "stream",
          "name": "stdout",
          "text": [
            "30\n"
          ]
        }
      ]
    },
    {
      "cell_type": "code",
      "source": [
        "#create a list with constructor\n",
        "a=([1,2,3,4,5])\n",
        "b=([6,7,8,9,10])\n",
        "c=([\"hello buddies\"])\n",
        "print(a)\n",
        "print(b)\n",
        "print(c)"
      ],
      "metadata": {
        "colab": {
          "base_uri": "https://localhost:8080/"
        },
        "id": "Y7-IFTXLJjBu",
        "outputId": "82eee98f-9d35-4468-b5aa-a880e0a6a59f"
      },
      "execution_count": 10,
      "outputs": [
        {
          "output_type": "stream",
          "name": "stdout",
          "text": [
            "[1, 2, 3, 4, 5]\n",
            "[6, 7, 8, 9, 10]\n",
            "['hello buddies']\n"
          ]
        }
      ]
    },
    {
      "cell_type": "code",
      "source": [
        "type (a)"
      ],
      "metadata": {
        "colab": {
          "base_uri": "https://localhost:8080/"
        },
        "id": "lBrsaE4rKBjy",
        "outputId": "3b344e90-7952-45de-a98e-9e71cb81674d"
      },
      "execution_count": 13,
      "outputs": [
        {
          "output_type": "execute_result",
          "data": {
            "text/plain": [
              "list"
            ]
          },
          "metadata": {},
          "execution_count": 13
        }
      ]
    },
    {
      "cell_type": "code",
      "source": [
        "#create list with hetroo\n",
        "a=([1,3,4,9,5,\"hello\"])\n",
        "print(a)"
      ],
      "metadata": {
        "colab": {
          "base_uri": "https://localhost:8080/"
        },
        "id": "w-_Rg8ZgKXc5",
        "outputId": "8ce7843a-2059-4205-a18b-819e9f43bd51"
      },
      "execution_count": 14,
      "outputs": [
        {
          "output_type": "stream",
          "name": "stdout",
          "text": [
            "[1, 3, 4, 9, 5, 'hello']\n"
          ]
        }
      ]
    },
    {
      "cell_type": "code",
      "source": [
        "#create list using range function\n",
        "l=list(range(7))\n",
        "print(l)"
      ],
      "metadata": {
        "colab": {
          "base_uri": "https://localhost:8080/"
        },
        "id": "10vfo405KkUH",
        "outputId": "275463f4-b39b-4658-f86f-c5a7dd475622"
      },
      "execution_count": 15,
      "outputs": [
        {
          "output_type": "stream",
          "name": "stdout",
          "text": [
            "[0, 1, 2, 3, 4, 5, 6]\n"
          ]
        }
      ]
    },
    {
      "cell_type": "code",
      "source": [
        "#create a list without constructor()\n",
        "days=[\"monday\",\"tuesday\",\"wednesday\",\"thursday\",\"friday\",\"saturday\",\"sunday\"]\n",
        "print(days)"
      ],
      "metadata": {
        "colab": {
          "base_uri": "https://localhost:8080/"
        },
        "id": "FBLY4IbWKvl9",
        "outputId": "21751e78-130a-4d4b-da6c-0411740b8e52"
      },
      "execution_count": 16,
      "outputs": [
        {
          "output_type": "stream",
          "name": "stdout",
          "text": [
            "['monday', 'tuesday', 'wednesday', 'thursday', 'friday', 'saturday', 'sunday']\n"
          ]
        }
      ]
    },
    {
      "cell_type": "code",
      "source": [
        "days[1]"
      ],
      "metadata": {
        "colab": {
          "base_uri": "https://localhost:8080/",
          "height": 35
        },
        "id": "4EzVuiq7K4xc",
        "outputId": "3cea2e13-9818-40aa-a88d-1430a9f495b8"
      },
      "execution_count": 17,
      "outputs": [
        {
          "output_type": "execute_result",
          "data": {
            "text/plain": [
              "'tuesday'"
            ],
            "application/vnd.google.colaboratory.intrinsic+json": {
              "type": "string"
            }
          },
          "metadata": {},
          "execution_count": 17
        }
      ]
    },
    {
      "cell_type": "code",
      "source": [
        "#negative indexing\n",
        "#create a list without constructor()\n",
        "days=[\"monday\",\"tuesday\",\"wednesday\",\"thursday\",\"friday\",\"saturday\",\"sunday\"]\n",
        "print(days[-1])\n"
      ],
      "metadata": {
        "colab": {
          "base_uri": "https://localhost:8080/"
        },
        "id": "pOE-dTMpK62V",
        "outputId": "4aa6885b-1542-4bd9-fe1c-c895532bcb9f"
      },
      "execution_count": 19,
      "outputs": [
        {
          "output_type": "stream",
          "name": "stdout",
          "text": [
            "sunday\n"
          ]
        }
      ]
    },
    {
      "cell_type": "code",
      "source": [
        "days[:]"
      ],
      "metadata": {
        "colab": {
          "base_uri": "https://localhost:8080/"
        },
        "id": "3zudKa6cLW4Z",
        "outputId": "7f1edfd7-51dd-435e-da1d-376ac37872f6"
      },
      "execution_count": 21,
      "outputs": [
        {
          "output_type": "execute_result",
          "data": {
            "text/plain": [
              "['monday', 'tuesday', 'wednesday', 'thursday', 'friday', 'saturday', 'sunday']"
            ]
          },
          "metadata": {},
          "execution_count": 21
        }
      ]
    },
    {
      "cell_type": "code",
      "source": [
        "#list slicing\n",
        "days[1:5]\n"
      ],
      "metadata": {
        "colab": {
          "base_uri": "https://localhost:8080/"
        },
        "id": "O0nzl2H8LbHT",
        "outputId": "ac9f78c7-3498-459a-e1fb-fde4f74e41aa"
      },
      "execution_count": 22,
      "outputs": [
        {
          "output_type": "execute_result",
          "data": {
            "text/plain": [
              "['tuesday', 'wednesday', 'thursday', 'friday']"
            ]
          },
          "metadata": {},
          "execution_count": 22
        }
      ]
    },
    {
      "cell_type": "code",
      "source": [
        "#list slicing with step size\n",
        "days[1:5:2]"
      ],
      "metadata": {
        "colab": {
          "base_uri": "https://localhost:8080/"
        },
        "id": "7HSeszFhLlz4",
        "outputId": "341a8eec-1d29-41e3-bc47-d0c39484e3ef"
      },
      "execution_count": 23,
      "outputs": [
        {
          "output_type": "execute_result",
          "data": {
            "text/plain": [
              "['tuesday', 'thursday']"
            ]
          },
          "metadata": {},
          "execution_count": 23
        }
      ]
    },
    {
      "cell_type": "code",
      "source": [
        "#example1:\n",
        "len(days)"
      ],
      "metadata": {
        "colab": {
          "base_uri": "https://localhost:8080/"
        },
        "id": "U6HXRym_LthB",
        "outputId": "2711528d-fa04-447f-f04c-72e2197540f3"
      },
      "execution_count": 24,
      "outputs": [
        {
          "output_type": "execute_result",
          "data": {
            "text/plain": [
              "7"
            ]
          },
          "metadata": {},
          "execution_count": 24
        }
      ]
    },
    {
      "cell_type": "code",
      "source": [
        "num=[1,2,3,4,5,6,7,8]\n",
        "max(num)\n"
      ],
      "metadata": {
        "colab": {
          "base_uri": "https://localhost:8080/"
        },
        "id": "Xf2FitmXL1nn",
        "outputId": "8828d031-f89c-4370-c2fb-26471a44b798"
      },
      "execution_count": 25,
      "outputs": [
        {
          "output_type": "execute_result",
          "data": {
            "text/plain": [
              "8"
            ]
          },
          "metadata": {},
          "execution_count": 25
        }
      ]
    },
    {
      "cell_type": "code",
      "source": [
        "min(num)"
      ],
      "metadata": {
        "colab": {
          "base_uri": "https://localhost:8080/"
        },
        "id": "V7lkDtapL9AX",
        "outputId": "428e33ba-f3f4-4455-cf60-df29c4c46e72"
      },
      "execution_count": 26,
      "outputs": [
        {
          "output_type": "execute_result",
          "data": {
            "text/plain": [
              "1"
            ]
          },
          "metadata": {},
          "execution_count": 26
        }
      ]
    },
    {
      "cell_type": "code",
      "source": [
        "sum(num)"
      ],
      "metadata": {
        "colab": {
          "base_uri": "https://localhost:8080/"
        },
        "id": "Hkg-7cWmMAAV",
        "outputId": "15f44ba1-e106-4842-be62-a14ac95c1536"
      },
      "execution_count": 27,
      "outputs": [
        {
          "output_type": "execute_result",
          "data": {
            "text/plain": [
              "36"
            ]
          },
          "metadata": {},
          "execution_count": 27
        }
      ]
    },
    {
      "cell_type": "code",
      "source": [
        "#RANDOM   functiom\n",
        "import random\n",
        "random.shuffle(num)\n",
        "print(num)"
      ],
      "metadata": {
        "colab": {
          "base_uri": "https://localhost:8080/"
        },
        "id": "9LX6x54lMCPV",
        "outputId": "de6abe82-7c4c-4f06-816a-75605d6adcda"
      },
      "execution_count": 28,
      "outputs": [
        {
          "output_type": "stream",
          "name": "stdout",
          "text": [
            "[2, 5, 3, 1, 7, 8, 4, 6]\n"
          ]
        }
      ]
    },
    {
      "cell_type": "code",
      "source": [
        "#example on operator\n",
        "a=[1,2,3]\n",
        "b=[4,5,6]\n",
        "c=a+b\n",
        "print(c)"
      ],
      "metadata": {
        "colab": {
          "base_uri": "https://localhost:8080/"
        },
        "id": "7x0GyQ0mMJu9",
        "outputId": "a9e0e65b-5573-467e-83e5-63b2cb3c6e67"
      },
      "execution_count": 29,
      "outputs": [
        {
          "output_type": "stream",
          "name": "stdout",
          "text": [
            "[1, 2, 3, 4, 5, 6]\n"
          ]
        }
      ]
    },
    {
      "cell_type": "code",
      "source": [
        "a=[10,20]\n",
        "b=3*a\n",
        "print(b)"
      ],
      "metadata": {
        "colab": {
          "base_uri": "https://localhost:8080/"
        },
        "id": "KbvTkIZzMWxs",
        "outputId": "17236a4d-f71c-482d-9a94-fac420c38970"
      },
      "execution_count": 32,
      "outputs": [
        {
          "output_type": "stream",
          "name": "stdout",
          "text": [
            "[10, 20, 10, 20, 10, 20]\n"
          ]
        }
      ]
    },
    {
      "cell_type": "code",
      "source": [
        "days=[\"monday\",\"tuesday\",\"wednesday\",\"thursday\",\"friday\",\"saturday\",\"sunday\"]\n",
        "\"wednesday\" in days"
      ],
      "metadata": {
        "colab": {
          "base_uri": "https://localhost:8080/"
        },
        "id": "1FTk9FRwMcDD",
        "outputId": "5f01ba8d-ddc2-4aa7-eb55-5e85fe62af95"
      },
      "execution_count": 33,
      "outputs": [
        {
          "output_type": "execute_result",
          "data": {
            "text/plain": [
              "True"
            ]
          },
          "metadata": {},
          "execution_count": 33
        }
      ]
    },
    {
      "cell_type": "code",
      "source": [
        "\"wednesday\" not in days"
      ],
      "metadata": {
        "colab": {
          "base_uri": "https://localhost:8080/"
        },
        "id": "jErKlgP5Mmpy",
        "outputId": "d15c5582-1bd4-4e42-aca9-110a56195564"
      },
      "execution_count": 34,
      "outputs": [
        {
          "output_type": "execute_result",
          "data": {
            "text/plain": [
              "False"
            ]
          },
          "metadata": {},
          "execution_count": 34
        }
      ]
    },
    {
      "cell_type": "code",
      "source": [
        "a=\"Akash\"\n",
        "b=\"Sharma\"\n",
        "a is b"
      ],
      "metadata": {
        "colab": {
          "base_uri": "https://localhost:8080/"
        },
        "id": "kJuQSpaLMqG6",
        "outputId": "50361030-7f98-45cc-c833-912ea8ea5e75"
      },
      "execution_count": 35,
      "outputs": [
        {
          "output_type": "execute_result",
          "data": {
            "text/plain": [
              "False"
            ]
          },
          "metadata": {},
          "execution_count": 35
        }
      ]
    },
    {
      "cell_type": "code",
      "source": [
        "a=\"Akash\"\n",
        "b=\"Akash\"\n",
        "a is b"
      ],
      "metadata": {
        "colab": {
          "base_uri": "https://localhost:8080/"
        },
        "id": "dOcRF-W9Mx-p",
        "outputId": "12cba255-db44-4c6c-83a3-1d38a5c7b51f"
      },
      "execution_count": 36,
      "outputs": [
        {
          "output_type": "execute_result",
          "data": {
            "text/plain": [
              "True"
            ]
          },
          "metadata": {},
          "execution_count": 36
        }
      ]
    },
    {
      "cell_type": "code",
      "source": [
        "#del\n",
        "del[days[1]]\n",
        "days"
      ],
      "metadata": {
        "colab": {
          "base_uri": "https://localhost:8080/"
        },
        "id": "S1yqJKhZM3P5",
        "outputId": "f7db4b6b-3ae4-421c-c4ee-1f60dbcab154"
      },
      "execution_count": 39,
      "outputs": [
        {
          "output_type": "execute_result",
          "data": {
            "text/plain": [
              "['monday', 'thursday', 'friday', 'saturday', 'sunday']"
            ]
          },
          "metadata": {},
          "execution_count": 39
        }
      ]
    },
    {
      "cell_type": "code",
      "source": [
        "#append\n",
        "a=[\"a\",\"b\",\"c\"]\n",
        "print(a)\n",
        "a.append(\"e\")\n",
        "print(a)"
      ],
      "metadata": {
        "colab": {
          "base_uri": "https://localhost:8080/"
        },
        "id": "HqDzV7mBM7bI",
        "outputId": "22507e96-2a68-42f8-99ba-35657892b877"
      },
      "execution_count": 40,
      "outputs": [
        {
          "output_type": "stream",
          "name": "stdout",
          "text": [
            "['a', 'b', 'c']\n",
            "['a', 'b', 'c', 'e']\n"
          ]
        }
      ]
    },
    {
      "cell_type": "code",
      "source": [
        "list=[\"red\",\"orange\",\"pink\",\"black\"]\n",
        "print(list)\n",
        "list.clear()\n",
        "print(list)\n",
        "#clear"
      ],
      "metadata": {
        "colab": {
          "base_uri": "https://localhost:8080/"
        },
        "id": "iDjLlvX5NHBQ",
        "outputId": "d8174067-28a7-4d0b-90a9-f86eae353500"
      },
      "execution_count": 42,
      "outputs": [
        {
          "output_type": "stream",
          "name": "stdout",
          "text": [
            "['red', 'orange', 'pink', 'black']\n",
            "[]\n"
          ]
        }
      ]
    },
    {
      "cell_type": "code",
      "source": [
        "#count\n",
        "num=[1,2,3,4,1,7,8,1,2]\n",
        "print(num)\n",
        "num.count(1)"
      ],
      "metadata": {
        "colab": {
          "base_uri": "https://localhost:8080/"
        },
        "id": "MTrb9nArNi0u",
        "outputId": "00aedec5-2a04-44dd-984c-00d8dd1243db"
      },
      "execution_count": 43,
      "outputs": [
        {
          "output_type": "stream",
          "name": "stdout",
          "text": [
            "[1, 2, 3, 4, 1, 7, 8, 1, 2]\n"
          ]
        },
        {
          "output_type": "execute_result",
          "data": {
            "text/plain": [
              "3"
            ]
          },
          "metadata": {},
          "execution_count": 43
        }
      ]
    },
    {
      "cell_type": "code",
      "source": [
        "#copy\n",
        "list1=[1,2,3,4]\n",
        "print(list1)\n",
        "list2=list1.copy()\n",
        "print(list2)"
      ],
      "metadata": {
        "colab": {
          "base_uri": "https://localhost:8080/"
        },
        "id": "Qmmq-6GuN4_7",
        "outputId": "e1924537-683b-4b64-acbb-4404fe4450a2"
      },
      "execution_count": 44,
      "outputs": [
        {
          "output_type": "stream",
          "name": "stdout",
          "text": [
            "[1, 2, 3, 4]\n",
            "[1, 2, 3, 4]\n"
          ]
        }
      ]
    },
    {
      "cell_type": "code",
      "source": [
        "#extend\n",
        "A=[1,3,2,4,5]\n",
        "B=[5,6,7,3,6]\n",
        "print(A)\n",
        "print(B)\n",
        "A.extend(B)\n",
        "print(A)"
      ],
      "metadata": {
        "colab": {
          "base_uri": "https://localhost:8080/"
        },
        "id": "zxqK72HiOHjq",
        "outputId": "4e792d5f-1ed6-4ecd-b13a-4feb37b429bf"
      },
      "execution_count": 45,
      "outputs": [
        {
          "output_type": "stream",
          "name": "stdout",
          "text": [
            "[1, 3, 2, 4, 5]\n",
            "[5, 6, 7, 3, 6]\n",
            "[1, 3, 2, 4, 5, 5, 6, 7, 3, 6]\n"
          ]
        }
      ]
    },
    {
      "cell_type": "code",
      "source": [
        "#create tuple with single element\n",
        "a=(5,)\n",
        "print(a)\n",
        "print(type(a))"
      ],
      "metadata": {
        "colab": {
          "base_uri": "https://localhost:8080/"
        },
        "id": "hRRsAhrpOZNL",
        "outputId": "5aae0164-1dbf-4b8d-897b-f6211f700f64"
      },
      "execution_count": 46,
      "outputs": [
        {
          "output_type": "stream",
          "name": "stdout",
          "text": [
            "(5,)\n",
            "<class 'tuple'>\n"
          ]
        }
      ]
    },
    {
      "cell_type": "code",
      "source": [
        "#create tuple with integer\n",
        "a=(1,2,3,4,5)\n",
        "print(a)"
      ],
      "metadata": {
        "colab": {
          "base_uri": "https://localhost:8080/"
        },
        "id": "o6wEL2laOpHl",
        "outputId": "4b0df951-1ca3-4ed5-bb7d-060ea14e6192"
      },
      "execution_count": 47,
      "outputs": [
        {
          "output_type": "stream",
          "name": "stdout",
          "text": [
            "(1, 2, 3, 4, 5)\n"
          ]
        }
      ]
    },
    {
      "cell_type": "code",
      "source": [
        "#create tuple with float numbers\n",
        "b=(1.2,2.3,3.4,4.5)\n",
        "print(b)"
      ],
      "metadata": {
        "colab": {
          "base_uri": "https://localhost:8080/"
        },
        "id": "oGVpCgSaO9ke",
        "outputId": "d0b38778-c839-4378-9531-acd523963203"
      },
      "execution_count": 48,
      "outputs": [
        {
          "output_type": "stream",
          "name": "stdout",
          "text": [
            "(1.2, 2.3, 3.4, 4.5)\n"
          ]
        }
      ]
    },
    {
      "cell_type": "code",
      "source": [
        "c=(\"one\",\"two\",\"three\")\n",
        "print(c)\n",
        "#tuple with strings"
      ],
      "metadata": {
        "colab": {
          "base_uri": "https://localhost:8080/"
        },
        "id": "Euou0A8EPFsH",
        "outputId": "272de83c-dddb-4375-d666-035df205a90c"
      },
      "execution_count": 50,
      "outputs": [
        {
          "output_type": "stream",
          "name": "stdout",
          "text": [
            "('one', 'two', 'three')\n"
          ]
        }
      ]
    },
    {
      "cell_type": "code",
      "source": [
        "#tuple multiple data types\n",
        "mix=(\"hello\",708,66,1,2)\n",
        "mix"
      ],
      "metadata": {
        "colab": {
          "base_uri": "https://localhost:8080/"
        },
        "id": "lEef-G8FPKQv",
        "outputId": "a70fbb7e-9fec-46e7-ad8b-2a254a148f01"
      },
      "execution_count": 53,
      "outputs": [
        {
          "output_type": "execute_result",
          "data": {
            "text/plain": [
              "('hello', 708, 66, 1, 2)"
            ]
          },
          "metadata": {},
          "execution_count": 53
        }
      ]
    },
    {
      "cell_type": "code",
      "source": [
        "#accessing items in tuple\n",
        "a=(1,2,3,4,\"hello\")\n",
        "print(a[4])"
      ],
      "metadata": {
        "colab": {
          "base_uri": "https://localhost:8080/"
        },
        "id": "RnYS-sBAPZ4v",
        "outputId": "3e91003a-2464-4387-f676-e728db43836c"
      },
      "execution_count": 54,
      "outputs": [
        {
          "output_type": "stream",
          "name": "stdout",
          "text": [
            "hello\n"
          ]
        }
      ]
    },
    {
      "cell_type": "code",
      "source": [
        "#create dictionary\n",
        "a={\n",
        "    \"name\":\"akash\",\n",
        "    \"age\":21,\n",
        "    \"education\":\"Engineering\"\n",
        "}\n",
        "print(a)"
      ],
      "metadata": {
        "colab": {
          "base_uri": "https://localhost:8080/"
        },
        "id": "W1Zr5L6dPxiL",
        "outputId": "89adcc37-25c3-4b12-bdb0-e318a54b34c5"
      },
      "execution_count": 55,
      "outputs": [
        {
          "output_type": "stream",
          "name": "stdout",
          "text": [
            "{'name': 'akash', 'age': 21, 'education': 'Engineering'}\n"
          ]
        }
      ]
    },
    {
      "cell_type": "code",
      "source": [
        "len(a)"
      ],
      "metadata": {
        "colab": {
          "base_uri": "https://localhost:8080/"
        },
        "id": "4Ava17IMQKct",
        "outputId": "a6ac647b-9952-44b9-b195-180d3e5094db"
      },
      "execution_count": 56,
      "outputs": [
        {
          "output_type": "execute_result",
          "data": {
            "text/plain": [
              "3"
            ]
          },
          "metadata": {},
          "execution_count": 56
        }
      ]
    },
    {
      "cell_type": "code",
      "source": [
        "type(a)"
      ],
      "metadata": {
        "colab": {
          "base_uri": "https://localhost:8080/"
        },
        "id": "__jWae4hQLkt",
        "outputId": "05e46873-7ed6-465a-8b3d-2ed573d43081"
      },
      "execution_count": 57,
      "outputs": [
        {
          "output_type": "execute_result",
          "data": {
            "text/plain": [
              "dict"
            ]
          },
          "metadata": {},
          "execution_count": 57
        }
      ]
    },
    {
      "cell_type": "code",
      "source": [
        "x=a.keys()\n",
        "print(x)\n",
        "#key"
      ],
      "metadata": {
        "colab": {
          "base_uri": "https://localhost:8080/"
        },
        "id": "-_esOs8AQNd9",
        "outputId": "ed15d73e-c348-45e5-d04e-d555c801156a"
      },
      "execution_count": 59,
      "outputs": [
        {
          "output_type": "stream",
          "name": "stdout",
          "text": [
            "dict_keys(['name', 'age', 'education'])\n"
          ]
        }
      ]
    },
    {
      "cell_type": "code",
      "source": [
        "#value\n",
        "y=a.values()\n",
        "print(y)"
      ],
      "metadata": {
        "id": "jxINcwmGQRDN"
      },
      "execution_count": 60,
      "outputs": []
    },
    {
      "cell_type": "code",
      "source": [
        "z=a.items()\n",
        "print(z)\n"
      ],
      "metadata": {
        "colab": {
          "base_uri": "https://localhost:8080/"
        },
        "id": "5371qOuvQake",
        "outputId": "e78b9346-beed-4b3e-c4c3-62a849fe3f69"
      },
      "execution_count": 62,
      "outputs": [
        {
          "output_type": "stream",
          "name": "stdout",
          "text": [
            "dict_items([('name', 'akash'), ('age', 21), ('education', 'Engineering')])\n"
          ]
        }
      ]
    },
    {
      "cell_type": "code",
      "source": [
        "#sets\n",
        "set1={1,2,3,4,5}\n",
        "print(set1)"
      ],
      "metadata": {
        "colab": {
          "base_uri": "https://localhost:8080/"
        },
        "id": "9XzfMH2wQiCW",
        "outputId": "d806d8ef-ca32-4595-f97f-b7028150ce5b"
      },
      "execution_count": 63,
      "outputs": [
        {
          "output_type": "stream",
          "name": "stdout",
          "text": [
            "{1, 2, 3, 4, 5}\n"
          ]
        }
      ]
    },
    {
      "cell_type": "code",
      "source": [
        "#3 dublicate not allowed\n",
        "set={1,2,3,4,5,6,7,1,1,2}\n",
        "set"
      ],
      "metadata": {
        "colab": {
          "base_uri": "https://localhost:8080/"
        },
        "id": "f-a8_P7ZQrv4",
        "outputId": "ee703870-6118-4189-9833-105a6cd4f4b5"
      },
      "execution_count": 64,
      "outputs": [
        {
          "output_type": "execute_result",
          "data": {
            "text/plain": [
              "{1, 2, 3, 4, 5, 6, 7}"
            ]
          },
          "metadata": {},
          "execution_count": 64
        }
      ]
    },
    {
      "cell_type": "code",
      "source": [
        "len(set)"
      ],
      "metadata": {
        "colab": {
          "base_uri": "https://localhost:8080/"
        },
        "id": "ZQ7mvqtpQ1-o",
        "outputId": "1ea73ece-6f28-41f5-b191-1c968dca248c"
      },
      "execution_count": 66,
      "outputs": [
        {
          "output_type": "execute_result",
          "data": {
            "text/plain": [
              "7"
            ]
          },
          "metadata": {},
          "execution_count": 66
        }
      ]
    },
    {
      "cell_type": "code",
      "source": [
        "type(set)"
      ],
      "metadata": {
        "colab": {
          "base_uri": "https://localhost:8080/"
        },
        "id": "ief8ozEBQ6TY",
        "outputId": "eefc33f6-86be-4b5b-94e4-ae399a4fd22b"
      },
      "execution_count": 67,
      "outputs": [
        {
          "output_type": "execute_result",
          "data": {
            "text/plain": [
              "set"
            ]
          },
          "metadata": {},
          "execution_count": 67
        }
      ]
    },
    {
      "cell_type": "code",
      "source": [
        "def add():\n",
        "  a=2\n",
        "  b=3\n",
        "  sum=a+b\n",
        "  return sum\n",
        "add()\n",
        "print(add())\n",
        "#using function"
      ],
      "metadata": {
        "colab": {
          "base_uri": "https://localhost:8080/"
        },
        "id": "Ibvm2HANQ9V4",
        "outputId": "66d38451-2d76-4ebc-80c5-237b4bbfbccb"
      },
      "execution_count": 77,
      "outputs": [
        {
          "output_type": "stream",
          "name": "stdout",
          "text": [
            "5\n"
          ]
        }
      ]
    },
    {
      "cell_type": "code",
      "source": [
        "def collectdata():\n",
        "  \"function to collect data.\"\n",
        "  statement(s)\n",
        "def cleandata():\n",
        "  \"function to clean data\"\n",
        "  statement(s)\n",
        "def processdata():\n",
        "  \"function to process data\"\n",
        "  statement(s)\n",
        "def visualization():\n",
        "  \"function to visualize data\"\n",
        "  statement(s)\n",
        "\n",
        "#maincode\n",
        "collectdata()\n",
        "cleandata()\n",
        "processdata()\n",
        "visualization()"
      ],
      "metadata": {
        "colab": {
          "base_uri": "https://localhost:8080/",
          "height": 332
        },
        "id": "yG8SeXWtRQG6",
        "outputId": "b97e8aed-8f6b-4f65-a491-297379d56782"
      },
      "execution_count": 76,
      "outputs": [
        {
          "output_type": "error",
          "ename": "NameError",
          "evalue": "name 'statement' is not defined",
          "traceback": [
            "\u001b[0;31m---------------------------------------------------------------------------\u001b[0m",
            "\u001b[0;31mNameError\u001b[0m                                 Traceback (most recent call last)",
            "\u001b[0;32m<ipython-input-76-c3949274242d>\u001b[0m in \u001b[0;36m<cell line: 15>\u001b[0;34m()\u001b[0m\n\u001b[1;32m     13\u001b[0m \u001b[0;34m\u001b[0m\u001b[0m\n\u001b[1;32m     14\u001b[0m \u001b[0;31m#maincode\u001b[0m\u001b[0;34m\u001b[0m\u001b[0;34m\u001b[0m\u001b[0m\n\u001b[0;32m---> 15\u001b[0;31m \u001b[0mcollectdata\u001b[0m\u001b[0;34m(\u001b[0m\u001b[0;34m)\u001b[0m\u001b[0;34m\u001b[0m\u001b[0;34m\u001b[0m\u001b[0m\n\u001b[0m\u001b[1;32m     16\u001b[0m \u001b[0mcleandata\u001b[0m\u001b[0;34m(\u001b[0m\u001b[0;34m)\u001b[0m\u001b[0;34m\u001b[0m\u001b[0;34m\u001b[0m\u001b[0m\n\u001b[1;32m     17\u001b[0m \u001b[0mprocessdata\u001b[0m\u001b[0;34m(\u001b[0m\u001b[0;34m)\u001b[0m\u001b[0;34m\u001b[0m\u001b[0;34m\u001b[0m\u001b[0m\n",
            "\u001b[0;32m<ipython-input-76-c3949274242d>\u001b[0m in \u001b[0;36mcollectdata\u001b[0;34m()\u001b[0m\n\u001b[1;32m      1\u001b[0m \u001b[0;32mdef\u001b[0m \u001b[0mcollectdata\u001b[0m\u001b[0;34m(\u001b[0m\u001b[0;34m)\u001b[0m\u001b[0;34m:\u001b[0m\u001b[0;34m\u001b[0m\u001b[0;34m\u001b[0m\u001b[0m\n\u001b[1;32m      2\u001b[0m   \u001b[0;34m\"function to collect data.\"\u001b[0m\u001b[0;34m\u001b[0m\u001b[0;34m\u001b[0m\u001b[0m\n\u001b[0;32m----> 3\u001b[0;31m   \u001b[0mstatement\u001b[0m\u001b[0;34m(\u001b[0m\u001b[0ms\u001b[0m\u001b[0;34m)\u001b[0m\u001b[0;34m\u001b[0m\u001b[0;34m\u001b[0m\u001b[0m\n\u001b[0m\u001b[1;32m      4\u001b[0m \u001b[0;32mdef\u001b[0m \u001b[0mcleandata\u001b[0m\u001b[0;34m(\u001b[0m\u001b[0;34m)\u001b[0m\u001b[0;34m:\u001b[0m\u001b[0;34m\u001b[0m\u001b[0;34m\u001b[0m\u001b[0m\n\u001b[1;32m      5\u001b[0m   \u001b[0;34m\"function to clean data\"\u001b[0m\u001b[0;34m\u001b[0m\u001b[0;34m\u001b[0m\u001b[0m\n",
            "\u001b[0;31mNameError\u001b[0m: name 'statement' is not defined"
          ]
        }
      ]
    },
    {
      "cell_type": "code",
      "source": [],
      "metadata": {
        "id": "r1aufO7ZSBSN"
      },
      "execution_count": 76,
      "outputs": []
    },
    {
      "cell_type": "code",
      "source": [
        "def collectdata():\n",
        "    \"\"\"Function to collect data\"\"\"\n",
        "    # Add statements here\n",
        "    pass\n",
        "\n",
        "def cleandata():\n",
        "    \"\"\"Function to clean data\"\"\"\n",
        "    # Add statements here\n",
        "    pass\n",
        "\n",
        "def processdata():\n",
        "    \"\"\"Function to pre-process the data\"\"\"\n",
        "    # Add statements here\n",
        "    pass\n",
        "\n",
        "def exploredata():\n",
        "    \"\"\"Function to explore data\"\"\"\n",
        "    # Add statements here\n",
        "    pass\n",
        "\n",
        "def visualization():\n",
        "    \"\"\"Function to visualize data\"\"\"\n",
        "    # Add statements here\n",
        "    pass\n",
        "\n",
        "# Main program\n",
        "collectdata()\n",
        "cleandata()\n",
        "processdata()\n",
        "exploredata()\n",
        "visualization()\n"
      ],
      "metadata": {
        "id": "2u6j3zizSgw0"
      },
      "execution_count": 74,
      "outputs": []
    },
    {
      "cell_type": "code",
      "source": [],
      "metadata": {
        "id": "p2JcdvwzTb1o"
      },
      "execution_count": 75,
      "outputs": []
    },
    {
      "cell_type": "code",
      "source": [],
      "metadata": {
        "id": "jR21kcvbTizA"
      },
      "execution_count": null,
      "outputs": []
    }
  ]
}